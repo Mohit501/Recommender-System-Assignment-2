{
  "nbformat": 4,
  "nbformat_minor": 0,
  "metadata": {
    "colab": {
      "provenance": []
    },
    "kernelspec": {
      "name": "python3",
      "display_name": "Python 3"
    },
    "language_info": {
      "name": "python"
    }
  },
  "cells": [
    {
      "cell_type": "code",
      "execution_count": 6,
      "metadata": {
        "colab": {
          "base_uri": "https://localhost:8080/"
        },
        "id": "NxcLK-YyUxX5",
        "outputId": "0caff2d5-0d7e-4054-c66d-3daf3473678d"
      },
      "outputs": [
        {
          "output_type": "execute_result",
          "data": {
            "text/plain": [
              "9223372036854775807"
            ]
          },
          "metadata": {},
          "execution_count": 6
        }
      ],
      "source": [
        "import numpy as np\n",
        "import pandas as pd\n",
        "import gzip\n",
        "import json\n",
        "from tqdm import tqdm\n",
        "import regex as re\n",
        "import time\n",
        "import gc\n",
        "from sklearn.metrics.pairwise import cosine_similarity\n",
        "from scipy.stats import pearsonr\n",
        "from itertools import combinations\n",
        "import sys\n",
        "sys.maxsize"
      ]
    },
    {
      "cell_type": "code",
      "source": [
        "from google.colab import drive\n",
        "drive.mount('/content/drive')"
      ],
      "metadata": {
        "colab": {
          "base_uri": "https://localhost:8080/"
        },
        "id": "ZfIvd5_nU2k_",
        "outputId": "3610bb81-73c2-41a3-efa1-aa731d1a8768"
      },
      "execution_count": 3,
      "outputs": [
        {
          "output_type": "stream",
          "name": "stdout",
          "text": [
            "Mounted at /content/drive\n"
          ]
        }
      ]
    },
    {
      "cell_type": "markdown",
      "source": [
        "# Extracting data from json.gz"
      ],
      "metadata": {
        "id": "FNFRuuYkVQRR"
      }
    },
    {
      "cell_type": "code",
      "source": [
        "g = gzip.open('/content/drive/MyDrive/data_for_lab/RS_google_data/reviews.clean.json.gz', 'rb')\n",
        "\n",
        "i,e  = 0, 0\n",
        "pattern = r\"'([0-9_\\./\\\\-]*)'\"\n",
        "main_list = []\n",
        "\n",
        "for l in g:\n",
        "  try:\n",
        "    l = l.decode('UTF-8')\n",
        "    \n",
        "    q1 = re.search('rating', l)\n",
        "    r = int(float(re.findall(\"\\d+\\.\\d+\", l[q1.span()[1]:])[0]))\n",
        "    q2 = re.search('gPlusPlaceId', l)\n",
        "    u = int(re.findall(\"u'[0-9]*'\", l[q2.span()[1]:])[0][2:-1])\n",
        "    q3 = re.search('gPlusUserId', l)\n",
        "    p = int(re.findall(\"u'[0-9]*'\", l[q3.span()[1]:])[0][2:-1])\n",
        "\n",
        "    main_list.append([p,u,r])\n",
        "    if i % 100000 == 0:\n",
        "      print(i,e)\n",
        "      i += 1\n",
        "    else:\n",
        "      i += 1\n",
        "  except:\n",
        "    e += 1"
      ],
      "metadata": {
        "colab": {
          "base_uri": "https://localhost:8080/"
        },
        "id": "8AXVNKqFzM7b",
        "outputId": "945d51d6-f35d-4532-fa6b-017ebd89eef5"
      },
      "execution_count": null,
      "outputs": [
        {
          "output_type": "stream",
          "name": "stdout",
          "text": [
            "0 0\n",
            "100000 0\n",
            "200000 0\n",
            "300000 0\n",
            "400000 0\n",
            "500000 0\n",
            "600000 0\n",
            "700000 0\n",
            "800000 0\n",
            "900000 0\n",
            "1000000 0\n",
            "1100000 0\n",
            "1200000 0\n",
            "1300000 0\n",
            "1400000 0\n",
            "1500000 0\n",
            "1600000 0\n",
            "1700000 0\n",
            "1800000 0\n",
            "1900000 0\n",
            "2000000 0\n",
            "2100000 0\n",
            "2200000 0\n",
            "2300000 0\n",
            "2400000 0\n",
            "2500000 0\n",
            "2600000 0\n",
            "2700000 0\n",
            "2800000 0\n",
            "2900000 0\n",
            "3000000 0\n",
            "3100000 0\n",
            "3200000 0\n",
            "3300000 0\n",
            "3400000 0\n",
            "3500000 0\n",
            "3600000 0\n",
            "3700000 0\n",
            "3800000 0\n",
            "3900000 0\n",
            "4000000 0\n",
            "4100000 0\n",
            "4200000 0\n",
            "4300000 0\n",
            "4400000 0\n",
            "4500000 0\n",
            "4600000 0\n",
            "4700000 0\n",
            "4800000 0\n",
            "4900000 0\n",
            "5000000 0\n",
            "5100000 0\n",
            "5200000 0\n",
            "5300000 0\n",
            "5400000 0\n",
            "5500000 0\n",
            "5600000 0\n",
            "5700000 0\n",
            "5800000 0\n",
            "5900000 0\n",
            "6000000 0\n",
            "6100000 0\n",
            "6200000 0\n",
            "6300000 0\n",
            "6400000 0\n",
            "6500000 0\n",
            "6600000 0\n",
            "6700000 0\n",
            "6800000 0\n",
            "6900000 0\n",
            "7000000 0\n",
            "7100000 0\n",
            "7200000 0\n",
            "7300000 0\n",
            "7400000 0\n",
            "7500000 0\n",
            "7600000 0\n",
            "7700000 0\n",
            "7800000 0\n",
            "7900000 0\n",
            "8000000 0\n",
            "8100000 0\n",
            "8200000 0\n",
            "8300000 0\n",
            "8400000 0\n",
            "8500000 0\n",
            "8600000 0\n",
            "8700000 0\n",
            "8800000 0\n",
            "8900000 0\n",
            "9000000 0\n",
            "9100000 0\n",
            "9200000 0\n",
            "9300000 0\n",
            "9400000 0\n",
            "9500000 0\n",
            "9600000 0\n",
            "9700000 0\n",
            "9800000 0\n",
            "9900000 0\n",
            "10000000 0\n",
            "10100000 0\n",
            "10200000 0\n",
            "10300000 0\n",
            "10400000 0\n",
            "10500000 0\n",
            "10600000 0\n",
            "10700000 0\n",
            "10800000 0\n",
            "10900000 0\n",
            "11000000 0\n",
            "11100000 0\n",
            "11200000 0\n",
            "11300000 0\n",
            "11400000 0\n"
          ]
        }
      ]
    },
    {
      "cell_type": "code",
      "source": [
        "df = pd.DataFrame(np.array(main_list))\n",
        "df.columns = ['gPlusPlaceId', 'gPlusUserId', 'rating']"
      ],
      "metadata": {
        "id": "8iXHPoMOVecV"
      },
      "execution_count": null,
      "outputs": []
    },
    {
      "cell_type": "code",
      "source": [
        "df.head()"
      ],
      "metadata": {
        "colab": {
          "base_uri": "https://localhost:8080/",
          "height": 206
        },
        "id": "bAWXT3bI-zR3",
        "outputId": "d29865b0-36d3-46f8-cc02-421cbe8fd5cf"
      },
      "execution_count": null,
      "outputs": [
        {
          "output_type": "execute_result",
          "data": {
            "text/plain": [
              "            gPlusPlaceId            gPlusUserId rating\n",
              "0  100000010817154263736  108103314380004200232      3\n",
              "1  100000010817154263736  108103314380004200232      3\n",
              "2  100000010817154263736  108103314380004200232      3\n",
              "3  100000010817154263736  108103314380004200232      3\n",
              "4  100000010817154263736  108103314380004200232      3"
            ],
            "text/html": [
              "\n",
              "  <div id=\"df-0f7cb772-9177-43f2-ba46-7419e4a375ec\">\n",
              "    <div class=\"colab-df-container\">\n",
              "      <div>\n",
              "<style scoped>\n",
              "    .dataframe tbody tr th:only-of-type {\n",
              "        vertical-align: middle;\n",
              "    }\n",
              "\n",
              "    .dataframe tbody tr th {\n",
              "        vertical-align: top;\n",
              "    }\n",
              "\n",
              "    .dataframe thead th {\n",
              "        text-align: right;\n",
              "    }\n",
              "</style>\n",
              "<table border=\"1\" class=\"dataframe\">\n",
              "  <thead>\n",
              "    <tr style=\"text-align: right;\">\n",
              "      <th></th>\n",
              "      <th>gPlusPlaceId</th>\n",
              "      <th>gPlusUserId</th>\n",
              "      <th>rating</th>\n",
              "    </tr>\n",
              "  </thead>\n",
              "  <tbody>\n",
              "    <tr>\n",
              "      <th>0</th>\n",
              "      <td>100000010817154263736</td>\n",
              "      <td>108103314380004200232</td>\n",
              "      <td>3</td>\n",
              "    </tr>\n",
              "    <tr>\n",
              "      <th>1</th>\n",
              "      <td>100000010817154263736</td>\n",
              "      <td>108103314380004200232</td>\n",
              "      <td>3</td>\n",
              "    </tr>\n",
              "    <tr>\n",
              "      <th>2</th>\n",
              "      <td>100000010817154263736</td>\n",
              "      <td>108103314380004200232</td>\n",
              "      <td>3</td>\n",
              "    </tr>\n",
              "    <tr>\n",
              "      <th>3</th>\n",
              "      <td>100000010817154263736</td>\n",
              "      <td>108103314380004200232</td>\n",
              "      <td>3</td>\n",
              "    </tr>\n",
              "    <tr>\n",
              "      <th>4</th>\n",
              "      <td>100000010817154263736</td>\n",
              "      <td>108103314380004200232</td>\n",
              "      <td>3</td>\n",
              "    </tr>\n",
              "  </tbody>\n",
              "</table>\n",
              "</div>\n",
              "      <button class=\"colab-df-convert\" onclick=\"convertToInteractive('df-0f7cb772-9177-43f2-ba46-7419e4a375ec')\"\n",
              "              title=\"Convert this dataframe to an interactive table.\"\n",
              "              style=\"display:none;\">\n",
              "        \n",
              "  <svg xmlns=\"http://www.w3.org/2000/svg\" height=\"24px\"viewBox=\"0 0 24 24\"\n",
              "       width=\"24px\">\n",
              "    <path d=\"M0 0h24v24H0V0z\" fill=\"none\"/>\n",
              "    <path d=\"M18.56 5.44l.94 2.06.94-2.06 2.06-.94-2.06-.94-.94-2.06-.94 2.06-2.06.94zm-11 1L8.5 8.5l.94-2.06 2.06-.94-2.06-.94L8.5 2.5l-.94 2.06-2.06.94zm10 10l.94 2.06.94-2.06 2.06-.94-2.06-.94-.94-2.06-.94 2.06-2.06.94z\"/><path d=\"M17.41 7.96l-1.37-1.37c-.4-.4-.92-.59-1.43-.59-.52 0-1.04.2-1.43.59L10.3 9.45l-7.72 7.72c-.78.78-.78 2.05 0 2.83L4 21.41c.39.39.9.59 1.41.59.51 0 1.02-.2 1.41-.59l7.78-7.78 2.81-2.81c.8-.78.8-2.07 0-2.86zM5.41 20L4 18.59l7.72-7.72 1.47 1.35L5.41 20z\"/>\n",
              "  </svg>\n",
              "      </button>\n",
              "      \n",
              "  <style>\n",
              "    .colab-df-container {\n",
              "      display:flex;\n",
              "      flex-wrap:wrap;\n",
              "      gap: 12px;\n",
              "    }\n",
              "\n",
              "    .colab-df-convert {\n",
              "      background-color: #E8F0FE;\n",
              "      border: none;\n",
              "      border-radius: 50%;\n",
              "      cursor: pointer;\n",
              "      display: none;\n",
              "      fill: #1967D2;\n",
              "      height: 32px;\n",
              "      padding: 0 0 0 0;\n",
              "      width: 32px;\n",
              "    }\n",
              "\n",
              "    .colab-df-convert:hover {\n",
              "      background-color: #E2EBFA;\n",
              "      box-shadow: 0px 1px 2px rgba(60, 64, 67, 0.3), 0px 1px 3px 1px rgba(60, 64, 67, 0.15);\n",
              "      fill: #174EA6;\n",
              "    }\n",
              "\n",
              "    [theme=dark] .colab-df-convert {\n",
              "      background-color: #3B4455;\n",
              "      fill: #D2E3FC;\n",
              "    }\n",
              "\n",
              "    [theme=dark] .colab-df-convert:hover {\n",
              "      background-color: #434B5C;\n",
              "      box-shadow: 0px 1px 3px 1px rgba(0, 0, 0, 0.15);\n",
              "      filter: drop-shadow(0px 1px 2px rgba(0, 0, 0, 0.3));\n",
              "      fill: #FFFFFF;\n",
              "    }\n",
              "  </style>\n",
              "\n",
              "      <script>\n",
              "        const buttonEl =\n",
              "          document.querySelector('#df-0f7cb772-9177-43f2-ba46-7419e4a375ec button.colab-df-convert');\n",
              "        buttonEl.style.display =\n",
              "          google.colab.kernel.accessAllowed ? 'block' : 'none';\n",
              "\n",
              "        async function convertToInteractive(key) {\n",
              "          const element = document.querySelector('#df-0f7cb772-9177-43f2-ba46-7419e4a375ec');\n",
              "          const dataTable =\n",
              "            await google.colab.kernel.invokeFunction('convertToInteractive',\n",
              "                                                     [key], {});\n",
              "          if (!dataTable) return;\n",
              "\n",
              "          const docLinkHtml = 'Like what you see? Visit the ' +\n",
              "            '<a target=\"_blank\" href=https://colab.research.google.com/notebooks/data_table.ipynb>data table notebook</a>'\n",
              "            + ' to learn more about interactive tables.';\n",
              "          element.innerHTML = '';\n",
              "          dataTable['output_type'] = 'display_data';\n",
              "          await google.colab.output.renderOutput(dataTable, element);\n",
              "          const docLink = document.createElement('div');\n",
              "          docLink.innerHTML = docLinkHtml;\n",
              "          element.appendChild(docLink);\n",
              "        }\n",
              "      </script>\n",
              "    </div>\n",
              "  </div>\n",
              "  "
            ]
          },
          "metadata": {},
          "execution_count": 77
        }
      ]
    },
    {
      "cell_type": "code",
      "source": [
        "df.to_csv('/content/drive/MyDrive/data_for_lab/RS_google_data/user_item_rating.csv')"
      ],
      "metadata": {
        "id": "KmA3ceOhWgCC"
      },
      "execution_count": null,
      "outputs": []
    },
    {
      "cell_type": "markdown",
      "source": [
        "### There were some errors in userids. So getting all the proper userids."
      ],
      "metadata": {
        "id": "2QL5idRTWFdU"
      }
    },
    {
      "cell_type": "code",
      "source": [
        "g = gzip.open('/content/drive/MyDrive/data_for_lab/RS_google_data/users.clean.json.gz', 'rb')\n",
        "uset = set()\n",
        "for l in g:\n",
        "  l = l.decode('UTF-8')\n",
        "  uset.add(int(l[-24:-3]))"
      ],
      "metadata": {
        "id": "wA8UK-R5WCVZ"
      },
      "execution_count": null,
      "outputs": []
    },
    {
      "cell_type": "code",
      "source": [
        "len(uset)"
      ],
      "metadata": {
        "colab": {
          "base_uri": "https://localhost:8080/"
        },
        "id": "Fiwzvz-5XQVh",
        "outputId": "0ee485b0-7103-4531-ed35-68ffa46f7469"
      },
      "execution_count": null,
      "outputs": [
        {
          "output_type": "execute_result",
          "data": {
            "text/plain": [
              "3747937"
            ]
          },
          "metadata": {},
          "execution_count": 11
        }
      ]
    },
    {
      "cell_type": "code",
      "source": [
        "df = pd.read_csv('/content/drive/MyDrive/data_for_lab/RS_google_data/user_item_rating.csv')\n",
        "test = list(set(df.gPlusUserId))\n",
        "\n",
        "count = 0\n",
        "rem = []\n",
        "for i in test:\n",
        "  if int(i) not in uset:\n",
        "    count += 1\n",
        "    rem.append(i)"
      ],
      "metadata": {
        "id": "8O5LQyEsWCJv"
      },
      "execution_count": null,
      "outputs": []
    },
    {
      "cell_type": "code",
      "source": [
        "new_df = df[~df.gPlusUserId.isin(rem)]"
      ],
      "metadata": {
        "id": "PJdrQqYyWr--"
      },
      "execution_count": null,
      "outputs": []
    },
    {
      "cell_type": "code",
      "source": [
        "new_df.head()"
      ],
      "metadata": {
        "colab": {
          "base_uri": "https://localhost:8080/",
          "height": 206
        },
        "id": "I8o-oIY4bqi9",
        "outputId": "8323323c-e037-4069-bf62-2e2e3003f519"
      },
      "execution_count": null,
      "outputs": [
        {
          "output_type": "execute_result",
          "data": {
            "text/plain": [
              "   Unnamed: 0           gPlusPlaceId            gPlusUserId  rating\n",
              "0           0  108103314380004200232  100000010817154263736       3\n",
              "1           1  102194128241608748649  100000013500285534661       5\n",
              "2           2  101409858828175402384  100000021336848867366       5\n",
              "3           3  101477177500158511502  100000021336848867366       5\n",
              "4           4  106994170641063333085  100000021336848867366       4"
            ],
            "text/html": [
              "\n",
              "  <div id=\"df-5ea8f8a6-c8af-4317-a564-7f0703f622a6\">\n",
              "    <div class=\"colab-df-container\">\n",
              "      <div>\n",
              "<style scoped>\n",
              "    .dataframe tbody tr th:only-of-type {\n",
              "        vertical-align: middle;\n",
              "    }\n",
              "\n",
              "    .dataframe tbody tr th {\n",
              "        vertical-align: top;\n",
              "    }\n",
              "\n",
              "    .dataframe thead th {\n",
              "        text-align: right;\n",
              "    }\n",
              "</style>\n",
              "<table border=\"1\" class=\"dataframe\">\n",
              "  <thead>\n",
              "    <tr style=\"text-align: right;\">\n",
              "      <th></th>\n",
              "      <th>Unnamed: 0</th>\n",
              "      <th>gPlusPlaceId</th>\n",
              "      <th>gPlusUserId</th>\n",
              "      <th>rating</th>\n",
              "    </tr>\n",
              "  </thead>\n",
              "  <tbody>\n",
              "    <tr>\n",
              "      <th>0</th>\n",
              "      <td>0</td>\n",
              "      <td>108103314380004200232</td>\n",
              "      <td>100000010817154263736</td>\n",
              "      <td>3</td>\n",
              "    </tr>\n",
              "    <tr>\n",
              "      <th>1</th>\n",
              "      <td>1</td>\n",
              "      <td>102194128241608748649</td>\n",
              "      <td>100000013500285534661</td>\n",
              "      <td>5</td>\n",
              "    </tr>\n",
              "    <tr>\n",
              "      <th>2</th>\n",
              "      <td>2</td>\n",
              "      <td>101409858828175402384</td>\n",
              "      <td>100000021336848867366</td>\n",
              "      <td>5</td>\n",
              "    </tr>\n",
              "    <tr>\n",
              "      <th>3</th>\n",
              "      <td>3</td>\n",
              "      <td>101477177500158511502</td>\n",
              "      <td>100000021336848867366</td>\n",
              "      <td>5</td>\n",
              "    </tr>\n",
              "    <tr>\n",
              "      <th>4</th>\n",
              "      <td>4</td>\n",
              "      <td>106994170641063333085</td>\n",
              "      <td>100000021336848867366</td>\n",
              "      <td>4</td>\n",
              "    </tr>\n",
              "  </tbody>\n",
              "</table>\n",
              "</div>\n",
              "      <button class=\"colab-df-convert\" onclick=\"convertToInteractive('df-5ea8f8a6-c8af-4317-a564-7f0703f622a6')\"\n",
              "              title=\"Convert this dataframe to an interactive table.\"\n",
              "              style=\"display:none;\">\n",
              "        \n",
              "  <svg xmlns=\"http://www.w3.org/2000/svg\" height=\"24px\"viewBox=\"0 0 24 24\"\n",
              "       width=\"24px\">\n",
              "    <path d=\"M0 0h24v24H0V0z\" fill=\"none\"/>\n",
              "    <path d=\"M18.56 5.44l.94 2.06.94-2.06 2.06-.94-2.06-.94-.94-2.06-.94 2.06-2.06.94zm-11 1L8.5 8.5l.94-2.06 2.06-.94-2.06-.94L8.5 2.5l-.94 2.06-2.06.94zm10 10l.94 2.06.94-2.06 2.06-.94-2.06-.94-.94-2.06-.94 2.06-2.06.94z\"/><path d=\"M17.41 7.96l-1.37-1.37c-.4-.4-.92-.59-1.43-.59-.52 0-1.04.2-1.43.59L10.3 9.45l-7.72 7.72c-.78.78-.78 2.05 0 2.83L4 21.41c.39.39.9.59 1.41.59.51 0 1.02-.2 1.41-.59l7.78-7.78 2.81-2.81c.8-.78.8-2.07 0-2.86zM5.41 20L4 18.59l7.72-7.72 1.47 1.35L5.41 20z\"/>\n",
              "  </svg>\n",
              "      </button>\n",
              "      \n",
              "  <style>\n",
              "    .colab-df-container {\n",
              "      display:flex;\n",
              "      flex-wrap:wrap;\n",
              "      gap: 12px;\n",
              "    }\n",
              "\n",
              "    .colab-df-convert {\n",
              "      background-color: #E8F0FE;\n",
              "      border: none;\n",
              "      border-radius: 50%;\n",
              "      cursor: pointer;\n",
              "      display: none;\n",
              "      fill: #1967D2;\n",
              "      height: 32px;\n",
              "      padding: 0 0 0 0;\n",
              "      width: 32px;\n",
              "    }\n",
              "\n",
              "    .colab-df-convert:hover {\n",
              "      background-color: #E2EBFA;\n",
              "      box-shadow: 0px 1px 2px rgba(60, 64, 67, 0.3), 0px 1px 3px 1px rgba(60, 64, 67, 0.15);\n",
              "      fill: #174EA6;\n",
              "    }\n",
              "\n",
              "    [theme=dark] .colab-df-convert {\n",
              "      background-color: #3B4455;\n",
              "      fill: #D2E3FC;\n",
              "    }\n",
              "\n",
              "    [theme=dark] .colab-df-convert:hover {\n",
              "      background-color: #434B5C;\n",
              "      box-shadow: 0px 1px 3px 1px rgba(0, 0, 0, 0.15);\n",
              "      filter: drop-shadow(0px 1px 2px rgba(0, 0, 0, 0.3));\n",
              "      fill: #FFFFFF;\n",
              "    }\n",
              "  </style>\n",
              "\n",
              "      <script>\n",
              "        const buttonEl =\n",
              "          document.querySelector('#df-5ea8f8a6-c8af-4317-a564-7f0703f622a6 button.colab-df-convert');\n",
              "        buttonEl.style.display =\n",
              "          google.colab.kernel.accessAllowed ? 'block' : 'none';\n",
              "\n",
              "        async function convertToInteractive(key) {\n",
              "          const element = document.querySelector('#df-5ea8f8a6-c8af-4317-a564-7f0703f622a6');\n",
              "          const dataTable =\n",
              "            await google.colab.kernel.invokeFunction('convertToInteractive',\n",
              "                                                     [key], {});\n",
              "          if (!dataTable) return;\n",
              "\n",
              "          const docLinkHtml = 'Like what you see? Visit the ' +\n",
              "            '<a target=\"_blank\" href=https://colab.research.google.com/notebooks/data_table.ipynb>data table notebook</a>'\n",
              "            + ' to learn more about interactive tables.';\n",
              "          element.innerHTML = '';\n",
              "          dataTable['output_type'] = 'display_data';\n",
              "          await google.colab.output.renderOutput(dataTable, element);\n",
              "          const docLink = document.createElement('div');\n",
              "          docLink.innerHTML = docLinkHtml;\n",
              "          element.appendChild(docLink);\n",
              "        }\n",
              "      </script>\n",
              "    </div>\n",
              "  </div>\n",
              "  "
            ]
          },
          "metadata": {},
          "execution_count": 22
        }
      ]
    },
    {
      "cell_type": "code",
      "source": [
        "len(np.unique(new_df.gPlusUserId))"
      ],
      "metadata": {
        "colab": {
          "base_uri": "https://localhost:8080/"
        },
        "id": "IXfmtEi25lFR",
        "outputId": "5364b684-fcc5-43fa-ddab-071c717ea5d2"
      },
      "execution_count": null,
      "outputs": [
        {
          "output_type": "execute_result",
          "data": {
            "text/plain": [
              "3740866"
            ]
          },
          "metadata": {},
          "execution_count": 24
        }
      ]
    },
    {
      "cell_type": "code",
      "source": [
        "len(np.unique(new_df.gPlusPlaceId))"
      ],
      "metadata": {
        "colab": {
          "base_uri": "https://localhost:8080/"
        },
        "id": "GnZybc9a6zKk",
        "outputId": "1a3a778d-813a-48df-98e5-b83b68e2887d"
      },
      "execution_count": null,
      "outputs": [
        {
          "output_type": "execute_result",
          "data": {
            "text/plain": [
              "2818575"
            ]
          },
          "metadata": {},
          "execution_count": 27
        }
      ]
    },
    {
      "cell_type": "code",
      "source": [
        "new_df.to_csv('/content/drive/MyDrive/data_for_lab/RS_google_data/user_item_rating_final.csv')"
      ],
      "metadata": {
        "id": "owMhZcuuW4zu"
      },
      "execution_count": null,
      "outputs": []
    },
    {
      "cell_type": "markdown",
      "source": [
        "# Creating user-item rating martrix.\n",
        "### Taking users with more than 15 reviews and places with more than 15 reviews."
      ],
      "metadata": {
        "id": "cPKOQeofW7kC"
      }
    },
    {
      "cell_type": "code",
      "source": [
        "new_df = pd.read_csv('/content/drive/MyDrive/data_for_lab/RS_google_data/user_item_rating_final.csv')\n",
        "new_df = new_df.drop(['Unnamed: 0.1'], axis=1)"
      ],
      "metadata": {
        "id": "BvYpKeudXIAc"
      },
      "execution_count": null,
      "outputs": []
    },
    {
      "cell_type": "code",
      "source": [
        "df_gb = new_df.groupby('gPlusUserId')\n",
        "\n",
        "total = len(np.unique(new_df.gPlusUserId))\n",
        "\n",
        "min_reviews_present = 15\n",
        "new_df_red = pd.DataFrame()\n",
        "temp = pd.DataFrame()\n",
        "print('Starting......')\n",
        "pbar = tqdm(total=100, position=0, leave=True)\n",
        "c = 0\n",
        "for i in df_gb:\n",
        "  \n",
        "  if c == int(total/100):\n",
        "    pbar.update(1)\n",
        "    c = 0\n",
        "  else:\n",
        "    c += 1\n",
        "\n",
        "  if len(i[1]) >= min_reviews_present:\n",
        "    temp = temp.append(i[1], ignore_index=True)\n",
        "\n",
        "    if len(temp) > 2000:\n",
        "      new_df_red = new_df_red.append(temp, ignore_index=True)\n",
        "      temp = pd.DataFrame()\n",
        "\n",
        "pbar.update(1)\n",
        "pbar.close()\n",
        "\n",
        "print(new_df_red.shape)\n"
      ],
      "metadata": {
        "colab": {
          "base_uri": "https://localhost:8080/"
        },
        "id": "mGcwjgBv9l7U",
        "outputId": "fe19dc3e-7749-4a50-b851-7a0323800135"
      },
      "execution_count": null,
      "outputs": [
        {
          "output_type": "stream",
          "name": "stdout",
          "text": [
            "Starting......\n"
          ]
        },
        {
          "output_type": "stream",
          "name": "stderr",
          "text": [
            "100%|██████████| 100/100 [03:28<00:00,  2.09s/it]"
          ]
        },
        {
          "output_type": "stream",
          "name": "stdout",
          "text": [
            "(2073556, 4)\n"
          ]
        },
        {
          "output_type": "stream",
          "name": "stderr",
          "text": [
            "\n"
          ]
        }
      ]
    },
    {
      "cell_type": "code",
      "source": [
        "df_gb_2 = new_df_red.groupby('gPlusPlaceId')\n",
        "total = len(np.unique(new_df_red.gPlusPlaceId))\n",
        "\n",
        "min_reviews_present = 15\n",
        "new_df_red_2 = pd.DataFrame()\n",
        "temp = pd.DataFrame()\n",
        "print('Starting......')\n",
        "pbar = tqdm(total=100, position=0, leave=True)\n",
        "c = 0\n",
        "for i in df_gb_2:\n",
        "  \n",
        "  if c == int(total/100):\n",
        "    pbar.update(1)\n",
        "    c = 0\n",
        "  else:\n",
        "    c += 1\n",
        "\n",
        "  if len(i[1]) >= min_reviews_present:\n",
        "    temp = temp.append(i[1], ignore_index=True)\n",
        "\n",
        "    if len(temp) > 2000:\n",
        "      new_df_red_2 = new_df_red_2.append(temp, ignore_index=True)\n",
        "      temp = pd.DataFrame()\n",
        "\n",
        "pbar.update(1)\n",
        "pbar.close()\n",
        "\n",
        "print(new_df_red_2.shape)"
      ],
      "metadata": {
        "colab": {
          "base_uri": "https://localhost:8080/"
        },
        "id": "-dyv5C_8eDcz",
        "outputId": "ad4f509b-8c75-401d-ffa8-1ce3985b9412"
      },
      "execution_count": null,
      "outputs": [
        {
          "output_type": "stream",
          "name": "stdout",
          "text": [
            "Starting......\n"
          ]
        },
        {
          "output_type": "stream",
          "name": "stderr",
          "text": [
            "100%|██████████| 100/100 [00:47<00:00,  2.09it/s]"
          ]
        },
        {
          "output_type": "stream",
          "name": "stdout",
          "text": [
            "(281420, 4)\n"
          ]
        },
        {
          "output_type": "stream",
          "name": "stderr",
          "text": [
            "\n"
          ]
        }
      ]
    },
    {
      "cell_type": "code",
      "source": [
        "len(np.unique(new_df_red_2.gPlusPlaceId)), len(np.unique(new_df_red_2.gPlusUserId))"
      ],
      "metadata": {
        "colab": {
          "base_uri": "https://localhost:8080/"
        },
        "id": "57q1eJs0eDXX",
        "outputId": "c8ea2553-01ea-4d72-8d1d-fdf709257572"
      },
      "execution_count": null,
      "outputs": [
        {
          "output_type": "execute_result",
          "data": {
            "text/plain": [
              "(9766, 31623)"
            ]
          },
          "metadata": {},
          "execution_count": 133
        }
      ]
    },
    {
      "cell_type": "markdown",
      "source": [
        "### Creating pivot table."
      ],
      "metadata": {
        "id": "wp9WVklqXjJO"
      }
    },
    {
      "cell_type": "code",
      "source": [
        "rows, row_pos = np.unique(new_df_red_2.iloc[:, 2], return_inverse=True)\n",
        "cols, col_pos = np.unique(new_df_red_2.iloc[:, 1], return_inverse=True)\n",
        "\n",
        "pivot_table = np.zeros((len(rows), len(cols)), dtype='object')\n",
        "pivot_table[row_pos, col_pos] = new_df_red_2.iloc[:, 3]\n",
        "\n",
        "pivot_table.shape"
      ],
      "metadata": {
        "colab": {
          "base_uri": "https://localhost:8080/"
        },
        "id": "tK88BoExlS5x",
        "outputId": "41563d87-9a8a-4984-f6f1-80f307bf24f1"
      },
      "execution_count": null,
      "outputs": [
        {
          "output_type": "execute_result",
          "data": {
            "text/plain": [
              "(31623, 9766)"
            ]
          },
          "metadata": {},
          "execution_count": 143
        }
      ]
    },
    {
      "cell_type": "code",
      "source": [
        "pivot_df = pd.DataFrame(pivot_table, columns = cols, index = rows)\n",
        "pivot_df"
      ],
      "metadata": {
        "colab": {
          "base_uri": "https://localhost:8080/",
          "height": 487
        },
        "id": "Zab3KUXyl4ry",
        "outputId": "a68c0fc5-9dc9-4393-f8ad-4083d46ad1ad"
      },
      "execution_count": null,
      "outputs": [
        {
          "output_type": "execute_result",
          "data": {
            "text/plain": [
              "                      100000418786238226598 100003306461961201673  \\\n",
              "100000242929724813348                     0                     0   \n",
              "100001176398972193069                     0                     0   \n",
              "100001564871364169453                     0                     0   \n",
              "100001643728576657268                     0                     0   \n",
              "100002289762977414196                     0                     0   \n",
              "...                                     ...                   ...   \n",
              "114670844158895297265                     0                     0   \n",
              "114671116312426288270                     0                     0   \n",
              "114671780747519572291                     0                     0   \n",
              "114672393604744185833                     0                     0   \n",
              "114672886966630469094                     0                     0   \n",
              "\n",
              "                      100006042449520085772 100006647043412576027  \\\n",
              "100000242929724813348                     0                     0   \n",
              "100001176398972193069                     0                     0   \n",
              "100001564871364169453                     0                     0   \n",
              "100001643728576657268                     0                     0   \n",
              "100002289762977414196                     0                     0   \n",
              "...                                     ...                   ...   \n",
              "114670844158895297265                     0                     0   \n",
              "114671116312426288270                     0                     0   \n",
              "114671780747519572291                     0                     0   \n",
              "114672393604744185833                     0                     0   \n",
              "114672886966630469094                     0                     0   \n",
              "\n",
              "                      100006882617735881358 100008293862971697418  \\\n",
              "100000242929724813348                     0                     0   \n",
              "100001176398972193069                     0                     0   \n",
              "100001564871364169453                     0                     0   \n",
              "100001643728576657268                     0                     0   \n",
              "100002289762977414196                     0                     0   \n",
              "...                                     ...                   ...   \n",
              "114670844158895297265                     0                     0   \n",
              "114671116312426288270                     0                     0   \n",
              "114671780747519572291                     0                     0   \n",
              "114672393604744185833                     0                     0   \n",
              "114672886966630469094                     0                     0   \n",
              "\n",
              "                      100009296329313456387 100014438093740548910  \\\n",
              "100000242929724813348                     0                     0   \n",
              "100001176398972193069                     0                     0   \n",
              "100001564871364169453                     0                     0   \n",
              "100001643728576657268                     0                     0   \n",
              "100002289762977414196                     0                     0   \n",
              "...                                     ...                   ...   \n",
              "114670844158895297265                     0                     0   \n",
              "114671116312426288270                     0                     0   \n",
              "114671780747519572291                     0                     0   \n",
              "114672393604744185833                     0                     0   \n",
              "114672886966630469094                     0                     0   \n",
              "\n",
              "                      100018168642444114921 100018779661168745263  ...  \\\n",
              "100000242929724813348                     0                     0  ...   \n",
              "100001176398972193069                     0                     0  ...   \n",
              "100001564871364169453                     0                     0  ...   \n",
              "100001643728576657268                     0                     0  ...   \n",
              "100002289762977414196                     0                     0  ...   \n",
              "...                                     ...                   ...  ...   \n",
              "114670844158895297265                     0                     0  ...   \n",
              "114671116312426288270                     0                     0  ...   \n",
              "114671780747519572291                     0                     0  ...   \n",
              "114672393604744185833                     0                     0  ...   \n",
              "114672886966630469094                     0                     0  ...   \n",
              "\n",
              "                      118406219806619147119 118406957693362928195  \\\n",
              "100000242929724813348                     0                     0   \n",
              "100001176398972193069                     0                     0   \n",
              "100001564871364169453                     0                     0   \n",
              "100001643728576657268                     0                     0   \n",
              "100002289762977414196                     0                     0   \n",
              "...                                     ...                   ...   \n",
              "114670844158895297265                     0                     0   \n",
              "114671116312426288270                     0                     0   \n",
              "114671780747519572291                     0                     0   \n",
              "114672393604744185833                     0                     0   \n",
              "114672886966630469094                     0                     0   \n",
              "\n",
              "                      118408091801984983805 118408308120993277213  \\\n",
              "100000242929724813348                     0                     0   \n",
              "100001176398972193069                     0                     0   \n",
              "100001564871364169453                     0                     0   \n",
              "100001643728576657268                     0                     0   \n",
              "100002289762977414196                     0                     0   \n",
              "...                                     ...                   ...   \n",
              "114670844158895297265                     0                     0   \n",
              "114671116312426288270                     0                     0   \n",
              "114671780747519572291                     0                     0   \n",
              "114672393604744185833                     0                     0   \n",
              "114672886966630469094                     0                     0   \n",
              "\n",
              "                      118412280948887004355 118412529402110044890  \\\n",
              "100000242929724813348                     0                     0   \n",
              "100001176398972193069                     0                     0   \n",
              "100001564871364169453                     0                     0   \n",
              "100001643728576657268                     0                     0   \n",
              "100002289762977414196                     0                     0   \n",
              "...                                     ...                   ...   \n",
              "114670844158895297265                     0                     0   \n",
              "114671116312426288270                     0                     0   \n",
              "114671780747519572291                     0                     0   \n",
              "114672393604744185833                     0                     0   \n",
              "114672886966630469094                     0                     0   \n",
              "\n",
              "                      118415291419685713017 118416014053319084823  \\\n",
              "100000242929724813348                     0                     0   \n",
              "100001176398972193069                     0                     0   \n",
              "100001564871364169453                     0                     0   \n",
              "100001643728576657268                     0                     0   \n",
              "100002289762977414196                     0                     0   \n",
              "...                                     ...                   ...   \n",
              "114670844158895297265                     0                     0   \n",
              "114671116312426288270                     0                     0   \n",
              "114671780747519572291                     0                     0   \n",
              "114672393604744185833                     0                     0   \n",
              "114672886966630469094                     0                     0   \n",
              "\n",
              "                      118418639274455787853 118420416172234080253  \n",
              "100000242929724813348                     0                     0  \n",
              "100001176398972193069                     0                     0  \n",
              "100001564871364169453                     0                     0  \n",
              "100001643728576657268                     0                     0  \n",
              "100002289762977414196                     0                     0  \n",
              "...                                     ...                   ...  \n",
              "114670844158895297265                     0                     0  \n",
              "114671116312426288270                     0                     0  \n",
              "114671780747519572291                     0                     0  \n",
              "114672393604744185833                     0                     0  \n",
              "114672886966630469094                     0                     0  \n",
              "\n",
              "[31623 rows x 9766 columns]"
            ],
            "text/html": [
              "\n",
              "  <div id=\"df-50226cea-c825-4be6-be1d-e42b2a504281\">\n",
              "    <div class=\"colab-df-container\">\n",
              "      <div>\n",
              "<style scoped>\n",
              "    .dataframe tbody tr th:only-of-type {\n",
              "        vertical-align: middle;\n",
              "    }\n",
              "\n",
              "    .dataframe tbody tr th {\n",
              "        vertical-align: top;\n",
              "    }\n",
              "\n",
              "    .dataframe thead th {\n",
              "        text-align: right;\n",
              "    }\n",
              "</style>\n",
              "<table border=\"1\" class=\"dataframe\">\n",
              "  <thead>\n",
              "    <tr style=\"text-align: right;\">\n",
              "      <th></th>\n",
              "      <th>100000418786238226598</th>\n",
              "      <th>100003306461961201673</th>\n",
              "      <th>100006042449520085772</th>\n",
              "      <th>100006647043412576027</th>\n",
              "      <th>100006882617735881358</th>\n",
              "      <th>100008293862971697418</th>\n",
              "      <th>100009296329313456387</th>\n",
              "      <th>100014438093740548910</th>\n",
              "      <th>100018168642444114921</th>\n",
              "      <th>100018779661168745263</th>\n",
              "      <th>...</th>\n",
              "      <th>118406219806619147119</th>\n",
              "      <th>118406957693362928195</th>\n",
              "      <th>118408091801984983805</th>\n",
              "      <th>118408308120993277213</th>\n",
              "      <th>118412280948887004355</th>\n",
              "      <th>118412529402110044890</th>\n",
              "      <th>118415291419685713017</th>\n",
              "      <th>118416014053319084823</th>\n",
              "      <th>118418639274455787853</th>\n",
              "      <th>118420416172234080253</th>\n",
              "    </tr>\n",
              "  </thead>\n",
              "  <tbody>\n",
              "    <tr>\n",
              "      <th>100000242929724813348</th>\n",
              "      <td>0</td>\n",
              "      <td>0</td>\n",
              "      <td>0</td>\n",
              "      <td>0</td>\n",
              "      <td>0</td>\n",
              "      <td>0</td>\n",
              "      <td>0</td>\n",
              "      <td>0</td>\n",
              "      <td>0</td>\n",
              "      <td>0</td>\n",
              "      <td>...</td>\n",
              "      <td>0</td>\n",
              "      <td>0</td>\n",
              "      <td>0</td>\n",
              "      <td>0</td>\n",
              "      <td>0</td>\n",
              "      <td>0</td>\n",
              "      <td>0</td>\n",
              "      <td>0</td>\n",
              "      <td>0</td>\n",
              "      <td>0</td>\n",
              "    </tr>\n",
              "    <tr>\n",
              "      <th>100001176398972193069</th>\n",
              "      <td>0</td>\n",
              "      <td>0</td>\n",
              "      <td>0</td>\n",
              "      <td>0</td>\n",
              "      <td>0</td>\n",
              "      <td>0</td>\n",
              "      <td>0</td>\n",
              "      <td>0</td>\n",
              "      <td>0</td>\n",
              "      <td>0</td>\n",
              "      <td>...</td>\n",
              "      <td>0</td>\n",
              "      <td>0</td>\n",
              "      <td>0</td>\n",
              "      <td>0</td>\n",
              "      <td>0</td>\n",
              "      <td>0</td>\n",
              "      <td>0</td>\n",
              "      <td>0</td>\n",
              "      <td>0</td>\n",
              "      <td>0</td>\n",
              "    </tr>\n",
              "    <tr>\n",
              "      <th>100001564871364169453</th>\n",
              "      <td>0</td>\n",
              "      <td>0</td>\n",
              "      <td>0</td>\n",
              "      <td>0</td>\n",
              "      <td>0</td>\n",
              "      <td>0</td>\n",
              "      <td>0</td>\n",
              "      <td>0</td>\n",
              "      <td>0</td>\n",
              "      <td>0</td>\n",
              "      <td>...</td>\n",
              "      <td>0</td>\n",
              "      <td>0</td>\n",
              "      <td>0</td>\n",
              "      <td>0</td>\n",
              "      <td>0</td>\n",
              "      <td>0</td>\n",
              "      <td>0</td>\n",
              "      <td>0</td>\n",
              "      <td>0</td>\n",
              "      <td>0</td>\n",
              "    </tr>\n",
              "    <tr>\n",
              "      <th>100001643728576657268</th>\n",
              "      <td>0</td>\n",
              "      <td>0</td>\n",
              "      <td>0</td>\n",
              "      <td>0</td>\n",
              "      <td>0</td>\n",
              "      <td>0</td>\n",
              "      <td>0</td>\n",
              "      <td>0</td>\n",
              "      <td>0</td>\n",
              "      <td>0</td>\n",
              "      <td>...</td>\n",
              "      <td>0</td>\n",
              "      <td>0</td>\n",
              "      <td>0</td>\n",
              "      <td>0</td>\n",
              "      <td>0</td>\n",
              "      <td>0</td>\n",
              "      <td>0</td>\n",
              "      <td>0</td>\n",
              "      <td>0</td>\n",
              "      <td>0</td>\n",
              "    </tr>\n",
              "    <tr>\n",
              "      <th>100002289762977414196</th>\n",
              "      <td>0</td>\n",
              "      <td>0</td>\n",
              "      <td>0</td>\n",
              "      <td>0</td>\n",
              "      <td>0</td>\n",
              "      <td>0</td>\n",
              "      <td>0</td>\n",
              "      <td>0</td>\n",
              "      <td>0</td>\n",
              "      <td>0</td>\n",
              "      <td>...</td>\n",
              "      <td>0</td>\n",
              "      <td>0</td>\n",
              "      <td>0</td>\n",
              "      <td>0</td>\n",
              "      <td>0</td>\n",
              "      <td>0</td>\n",
              "      <td>0</td>\n",
              "      <td>0</td>\n",
              "      <td>0</td>\n",
              "      <td>0</td>\n",
              "    </tr>\n",
              "    <tr>\n",
              "      <th>...</th>\n",
              "      <td>...</td>\n",
              "      <td>...</td>\n",
              "      <td>...</td>\n",
              "      <td>...</td>\n",
              "      <td>...</td>\n",
              "      <td>...</td>\n",
              "      <td>...</td>\n",
              "      <td>...</td>\n",
              "      <td>...</td>\n",
              "      <td>...</td>\n",
              "      <td>...</td>\n",
              "      <td>...</td>\n",
              "      <td>...</td>\n",
              "      <td>...</td>\n",
              "      <td>...</td>\n",
              "      <td>...</td>\n",
              "      <td>...</td>\n",
              "      <td>...</td>\n",
              "      <td>...</td>\n",
              "      <td>...</td>\n",
              "      <td>...</td>\n",
              "    </tr>\n",
              "    <tr>\n",
              "      <th>114670844158895297265</th>\n",
              "      <td>0</td>\n",
              "      <td>0</td>\n",
              "      <td>0</td>\n",
              "      <td>0</td>\n",
              "      <td>0</td>\n",
              "      <td>0</td>\n",
              "      <td>0</td>\n",
              "      <td>0</td>\n",
              "      <td>0</td>\n",
              "      <td>0</td>\n",
              "      <td>...</td>\n",
              "      <td>0</td>\n",
              "      <td>0</td>\n",
              "      <td>0</td>\n",
              "      <td>0</td>\n",
              "      <td>0</td>\n",
              "      <td>0</td>\n",
              "      <td>0</td>\n",
              "      <td>0</td>\n",
              "      <td>0</td>\n",
              "      <td>0</td>\n",
              "    </tr>\n",
              "    <tr>\n",
              "      <th>114671116312426288270</th>\n",
              "      <td>0</td>\n",
              "      <td>0</td>\n",
              "      <td>0</td>\n",
              "      <td>0</td>\n",
              "      <td>0</td>\n",
              "      <td>0</td>\n",
              "      <td>0</td>\n",
              "      <td>0</td>\n",
              "      <td>0</td>\n",
              "      <td>0</td>\n",
              "      <td>...</td>\n",
              "      <td>0</td>\n",
              "      <td>0</td>\n",
              "      <td>0</td>\n",
              "      <td>0</td>\n",
              "      <td>0</td>\n",
              "      <td>0</td>\n",
              "      <td>0</td>\n",
              "      <td>0</td>\n",
              "      <td>0</td>\n",
              "      <td>0</td>\n",
              "    </tr>\n",
              "    <tr>\n",
              "      <th>114671780747519572291</th>\n",
              "      <td>0</td>\n",
              "      <td>0</td>\n",
              "      <td>0</td>\n",
              "      <td>0</td>\n",
              "      <td>0</td>\n",
              "      <td>0</td>\n",
              "      <td>0</td>\n",
              "      <td>0</td>\n",
              "      <td>0</td>\n",
              "      <td>0</td>\n",
              "      <td>...</td>\n",
              "      <td>0</td>\n",
              "      <td>0</td>\n",
              "      <td>0</td>\n",
              "      <td>0</td>\n",
              "      <td>0</td>\n",
              "      <td>0</td>\n",
              "      <td>0</td>\n",
              "      <td>0</td>\n",
              "      <td>0</td>\n",
              "      <td>0</td>\n",
              "    </tr>\n",
              "    <tr>\n",
              "      <th>114672393604744185833</th>\n",
              "      <td>0</td>\n",
              "      <td>0</td>\n",
              "      <td>0</td>\n",
              "      <td>0</td>\n",
              "      <td>0</td>\n",
              "      <td>0</td>\n",
              "      <td>0</td>\n",
              "      <td>0</td>\n",
              "      <td>0</td>\n",
              "      <td>0</td>\n",
              "      <td>...</td>\n",
              "      <td>0</td>\n",
              "      <td>0</td>\n",
              "      <td>0</td>\n",
              "      <td>0</td>\n",
              "      <td>0</td>\n",
              "      <td>0</td>\n",
              "      <td>0</td>\n",
              "      <td>0</td>\n",
              "      <td>0</td>\n",
              "      <td>0</td>\n",
              "    </tr>\n",
              "    <tr>\n",
              "      <th>114672886966630469094</th>\n",
              "      <td>0</td>\n",
              "      <td>0</td>\n",
              "      <td>0</td>\n",
              "      <td>0</td>\n",
              "      <td>0</td>\n",
              "      <td>0</td>\n",
              "      <td>0</td>\n",
              "      <td>0</td>\n",
              "      <td>0</td>\n",
              "      <td>0</td>\n",
              "      <td>...</td>\n",
              "      <td>0</td>\n",
              "      <td>0</td>\n",
              "      <td>0</td>\n",
              "      <td>0</td>\n",
              "      <td>0</td>\n",
              "      <td>0</td>\n",
              "      <td>0</td>\n",
              "      <td>0</td>\n",
              "      <td>0</td>\n",
              "      <td>0</td>\n",
              "    </tr>\n",
              "  </tbody>\n",
              "</table>\n",
              "<p>31623 rows × 9766 columns</p>\n",
              "</div>\n",
              "      <button class=\"colab-df-convert\" onclick=\"convertToInteractive('df-50226cea-c825-4be6-be1d-e42b2a504281')\"\n",
              "              title=\"Convert this dataframe to an interactive table.\"\n",
              "              style=\"display:none;\">\n",
              "        \n",
              "  <svg xmlns=\"http://www.w3.org/2000/svg\" height=\"24px\"viewBox=\"0 0 24 24\"\n",
              "       width=\"24px\">\n",
              "    <path d=\"M0 0h24v24H0V0z\" fill=\"none\"/>\n",
              "    <path d=\"M18.56 5.44l.94 2.06.94-2.06 2.06-.94-2.06-.94-.94-2.06-.94 2.06-2.06.94zm-11 1L8.5 8.5l.94-2.06 2.06-.94-2.06-.94L8.5 2.5l-.94 2.06-2.06.94zm10 10l.94 2.06.94-2.06 2.06-.94-2.06-.94-.94-2.06-.94 2.06-2.06.94z\"/><path d=\"M17.41 7.96l-1.37-1.37c-.4-.4-.92-.59-1.43-.59-.52 0-1.04.2-1.43.59L10.3 9.45l-7.72 7.72c-.78.78-.78 2.05 0 2.83L4 21.41c.39.39.9.59 1.41.59.51 0 1.02-.2 1.41-.59l7.78-7.78 2.81-2.81c.8-.78.8-2.07 0-2.86zM5.41 20L4 18.59l7.72-7.72 1.47 1.35L5.41 20z\"/>\n",
              "  </svg>\n",
              "      </button>\n",
              "      \n",
              "  <style>\n",
              "    .colab-df-container {\n",
              "      display:flex;\n",
              "      flex-wrap:wrap;\n",
              "      gap: 12px;\n",
              "    }\n",
              "\n",
              "    .colab-df-convert {\n",
              "      background-color: #E8F0FE;\n",
              "      border: none;\n",
              "      border-radius: 50%;\n",
              "      cursor: pointer;\n",
              "      display: none;\n",
              "      fill: #1967D2;\n",
              "      height: 32px;\n",
              "      padding: 0 0 0 0;\n",
              "      width: 32px;\n",
              "    }\n",
              "\n",
              "    .colab-df-convert:hover {\n",
              "      background-color: #E2EBFA;\n",
              "      box-shadow: 0px 1px 2px rgba(60, 64, 67, 0.3), 0px 1px 3px 1px rgba(60, 64, 67, 0.15);\n",
              "      fill: #174EA6;\n",
              "    }\n",
              "\n",
              "    [theme=dark] .colab-df-convert {\n",
              "      background-color: #3B4455;\n",
              "      fill: #D2E3FC;\n",
              "    }\n",
              "\n",
              "    [theme=dark] .colab-df-convert:hover {\n",
              "      background-color: #434B5C;\n",
              "      box-shadow: 0px 1px 3px 1px rgba(0, 0, 0, 0.15);\n",
              "      filter: drop-shadow(0px 1px 2px rgba(0, 0, 0, 0.3));\n",
              "      fill: #FFFFFF;\n",
              "    }\n",
              "  </style>\n",
              "\n",
              "      <script>\n",
              "        const buttonEl =\n",
              "          document.querySelector('#df-50226cea-c825-4be6-be1d-e42b2a504281 button.colab-df-convert');\n",
              "        buttonEl.style.display =\n",
              "          google.colab.kernel.accessAllowed ? 'block' : 'none';\n",
              "\n",
              "        async function convertToInteractive(key) {\n",
              "          const element = document.querySelector('#df-50226cea-c825-4be6-be1d-e42b2a504281');\n",
              "          const dataTable =\n",
              "            await google.colab.kernel.invokeFunction('convertToInteractive',\n",
              "                                                     [key], {});\n",
              "          if (!dataTable) return;\n",
              "\n",
              "          const docLinkHtml = 'Like what you see? Visit the ' +\n",
              "            '<a target=\"_blank\" href=https://colab.research.google.com/notebooks/data_table.ipynb>data table notebook</a>'\n",
              "            + ' to learn more about interactive tables.';\n",
              "          element.innerHTML = '';\n",
              "          dataTable['output_type'] = 'display_data';\n",
              "          await google.colab.output.renderOutput(dataTable, element);\n",
              "          const docLink = document.createElement('div');\n",
              "          docLink.innerHTML = docLinkHtml;\n",
              "          element.appendChild(docLink);\n",
              "        }\n",
              "      </script>\n",
              "    </div>\n",
              "  </div>\n",
              "  "
            ]
          },
          "metadata": {},
          "execution_count": 147
        }
      ]
    },
    {
      "cell_type": "code",
      "source": [
        "pivot_df.to_csv('/content/drive/MyDrive/data_for_lab/RS_google_data/rating_matrix_user15_place15.csv')"
      ],
      "metadata": {
        "id": "FFCu-5KQXvC8"
      },
      "execution_count": null,
      "outputs": []
    },
    {
      "cell_type": "markdown",
      "source": [
        "# Creating Models"
      ],
      "metadata": {
        "id": "S-IK8Im3X2Co"
      }
    },
    {
      "cell_type": "markdown",
      "source": [
        "## 1) Neighbourhood model with baseline estimates. (without Implicit feedback)"
      ],
      "metadata": {
        "id": "ELtMlEHHX4qz"
      }
    },
    {
      "cell_type": "code",
      "source": [
        "class NM_wo_implicit():\n",
        "  def __init__(self, arr, k_neighbours, lmda1, lmda4, gamma, iter):\n",
        "    self.arr = arr\n",
        "    self.sim_mat = self.sim_mat_cal()\n",
        "\n",
        "    self.bu = np.random.rand(arr.shape[0])\n",
        "    self.bi = np.random.rand(arr.shape[1])\n",
        "    self.u = np.mean(arr)\n",
        "    self.w = np.random.rand(arr.shape[1],arr.shape[1])\n",
        "    self.c = np.random.rand(arr.shape[1],arr.shape[1])\n",
        "\n",
        "    self.b_uj = np.random.rand(arr.shape[0],arr.shape[1])\n",
        "    self.b_u = np.random.rand(arr.shape[0])\n",
        "    self.b_i = np.random.rand(arr.shape[1])\n",
        "\n",
        "    self.k_neighbours = k_neighbours\n",
        "    self.lmda1 = lmda1\n",
        "    self.lmda4 = lmda4\n",
        "    self.gamma = gamma\n",
        "    self.iter = iter\n",
        "\n",
        "    self.known_ratings = np.argwhere(self.arr != 0)\n",
        "\n",
        "    self.baseline_estimates()\n",
        "\n",
        "  def baseline_estimates(self):\n",
        "    for _ in range(self.iter):\n",
        "      for i in self.known_ratings:\n",
        "        self.b_u[i[0]] = self.b_u[i[0]] + (self.arr[i[0],i[1]] - self.u - self.b_u[i[0]] - self.b_i[i[1]]) - self.lmda1 * self.b_u[i[0]]\n",
        "        self.b_i[i[1]] = self.b_i[i[1]] + (self.arr[i[0],i[1]] - self.u - self.b_u[i[0]] - self.b_i[i[1]]) - self.lmda1 * self.b_i[i[1]]\n",
        "    \n",
        "    for i in range(self.b_uj.shape[0]):\n",
        "      self.b_uj[i,:] = self.b_u[i] + self.b_i + self.u\n",
        "\n",
        "  def sim_mat_cal(self):\n",
        "    temp = np.corrcoef(self.arr)\n",
        "    sim_mat = np.where(np.isnan(temp), 0, temp)\n",
        "\n",
        "    for i in range(sim_mat.shape[0]):\n",
        "      for j in range(sim_mat.shape[0]):\n",
        "        n_ij = len(set(np.argwhere(self.arr[:,i] != 0)[:,0]) & set(np.argwhere(self.arr[:,j] != 0)[:,0]))\n",
        "        sim_mat[i,j] *= (n_ij / (n_ij + 100))\n",
        "\n",
        "    return sim_mat\n",
        "\n",
        "  def fit(self):\n",
        "    for epoch in range(self.iter):\n",
        "      total,count,err = len(self.known_ratings), 1, []\n",
        "    \n",
        "      for i in self.known_ratings:\n",
        "        RK_iu = list(set(np.argsort(self.sim_mat[i[1]][1:])[::-1][:self.k_neighbours]) & set(self.known_ratings[self.known_ratings[:,0] == i[0]][:,1]))\n",
        "        s_temp = 0\n",
        "\n",
        "        if RK_iu:\n",
        "          for j in RK_iu:\n",
        "            s_temp += (self.arr[i[0], j] - self.b_uj[i[0], j]) * self.w[i[1], j]\n",
        "\n",
        "          s_temp = len(RK_iu) ** (-1/2) * s_temp\n",
        "\n",
        "        r_hat = self.u + self.bu[i[0]] + self.bi[i[1]] + s_temp\n",
        "\n",
        "        # update\n",
        "        error = self.arr[i[0], i[1]] - r_hat\n",
        "        err.append(error)\n",
        "\n",
        "        self.bu[i[0]] += self.gamma * (error - self.lmda4 * self.bu[i[0]])\n",
        "        self.bi[i[1]] += self.gamma * (error - self.lmda4 * self.bi[i[1]])\n",
        "\n",
        "        if RK_iu:\n",
        "          for j in RK_iu:\n",
        "            self.w[i[1],j] += self.gamma * ((len(RK_iu)**(-1/2) * error * (self.arr[i[0], j] - self.b_uj[i[0], j])) - self.lmda4 * self.w[i[1], j])\n",
        "        \n",
        "        if count % int(total / 10) == 0:\n",
        "          s = 'Epoch ' + str(epoch) + ' [' + '===' * int((count+1) / total * 10) + '>' + '   ' * (10 - int((count+1) / total * 10)) + ']' + '  Error (RMSE): ' + str(np.sqrt(np.mean(err)))\n",
        "          print(f\"\\r{s}\", end=\"\")\n",
        "        \n",
        "        count += 1\n",
        "      print()\n",
        "\n",
        "  def predict_index(self, user_index, top_k):\n",
        "    rec_index, ret_list = [], []\n",
        "\n",
        "    temp1 = self.known_ratings[self.known_ratings[:,0] == user_index][:,1]\n",
        "    for i in range(self.arr.shape[1]):\n",
        "      RK_iu = list(set(np.argsort(self.sim_mat[i][1:])[::-1][:self.k_neighbours]) & set(self.known_ratings[self.known_ratings[:,0] == user_index][:,1]))\n",
        "\n",
        "      s_temp = 0\n",
        "\n",
        "      if RK_iu:\n",
        "        for j in RK_iu:\n",
        "          s_temp += (self.arr[user_index, j] - self.b_uj[user_index, j]) * self.w[i, j]\n",
        "\n",
        "        s_temp = len(RK_iu) ** (-1/2) * s_temp\n",
        "\n",
        "      r_hat = self.u + self.bu[user_index] + self.bi[i] + s_temp\n",
        "\n",
        "      rec_index.append(r_hat)\n",
        "\n",
        "    rev_sorted_index = np.argsort(rec_index)[::-1]\n",
        "\n",
        "    for i in rev_sorted_index:\n",
        "      if i not in temp1:\n",
        "        ret_list.append(i)\n",
        "\n",
        "      if len(ret_list) == top_k:\n",
        "        break\n",
        "    \n",
        "    return ret_list\n",
        "    "
      ],
      "metadata": {
        "id": "b_5JqtxfX1hh"
      },
      "execution_count": null,
      "outputs": []
    },
    {
      "cell_type": "markdown",
      "source": [
        "### Testing the function."
      ],
      "metadata": {
        "id": "KtRO75VfYIz7"
      }
    },
    {
      "cell_type": "code",
      "source": [
        "df = pd.read_csv('/content/drive/MyDrive/data_for_lab/RS_google_data/rating_matrix_user15_place15.csv')\n",
        "df = df.set_index('Unnamed: 0')\n",
        "arr = np.array(df.iloc[:1000,:1000])"
      ],
      "metadata": {
        "id": "p1oBIU8OYEHl"
      },
      "execution_count": null,
      "outputs": []
    },
    {
      "cell_type": "code",
      "source": [
        "m = NM_wo_implicit(arr, 100, 0.02, 0.002, 0.005, 10)"
      ],
      "metadata": {
        "colab": {
          "base_uri": "https://localhost:8080/"
        },
        "id": "CQ0kX3SNsheO",
        "outputId": "2bf5d845-8aed-4290-e39d-d244e67f955c"
      },
      "execution_count": null,
      "outputs": [
        {
          "output_type": "stream",
          "name": "stderr",
          "text": [
            "/usr/local/lib/python3.8/dist-packages/numpy/lib/function_base.py:2829: RuntimeWarning: invalid value encountered in true_divide\n",
            "  c /= stddev[:, None]\n",
            "/usr/local/lib/python3.8/dist-packages/numpy/lib/function_base.py:2830: RuntimeWarning: invalid value encountered in true_divide\n",
            "  c /= stddev[None, :]\n"
          ]
        }
      ]
    },
    {
      "cell_type": "code",
      "source": [
        "m.fit()"
      ],
      "metadata": {
        "colab": {
          "base_uri": "https://localhost:8080/"
        },
        "id": "GbQoPdmss13H",
        "outputId": "5b97c459-031c-41ef-f3d9-e5564ea48e6a"
      },
      "execution_count": null,
      "outputs": [
        {
          "output_type": "stream",
          "name": "stdout",
          "text": [
            "\rEpoch 0 [===>                           ]  Error (RMSE): 1.663735737222566\rEpoch 0 [======>                        ]  Error (RMSE): 1.7150689404705994\rEpoch 0 [=========>                     ]  Error (RMSE): 1.7402217771131812\rEpoch 0 [============>                  ]  Error (RMSE): 1.740450923439365\rEpoch 0 [===============>               ]  Error (RMSE): 1.7421847968499897\rEpoch 0 [==================>            ]  Error (RMSE): 1.745305295636973\rEpoch 0 [=====================>         ]  Error (RMSE): 1.7533372190562806\rEpoch 0 [========================>      ]  Error (RMSE): 1.7598295688526833\rEpoch 0 [===========================>   ]  Error (RMSE): 1.7573687225323378\rEpoch 0 [==============================>]  Error (RMSE): 1.755479500129229\n",
            "Epoch 1 [==============================>]  Error (RMSE): 1.7238310157913606\n",
            "Epoch 2 [==============================>]  Error (RMSE): 1.6932773327122561\n",
            "Epoch 3 [==============================>]  Error (RMSE): 1.6637667510673122\n",
            "Epoch 4 [==============================>]  Error (RMSE): 1.6352502843447398\n",
            "Epoch 5 [==============================>]  Error (RMSE): 1.607681518019065\n",
            "Epoch 6 [==============================>]  Error (RMSE): 1.5810164748766162\n",
            "Epoch 7 [==============================>]  Error (RMSE): 1.555213486743704\n",
            "Epoch 8 [==============================>]  Error (RMSE): 1.5302330723749953\n",
            "Epoch 9 [==============================>]  Error (RMSE): 1.5060378212658463\n"
          ]
        }
      ]
    },
    {
      "cell_type": "code",
      "source": [
        "## Here we are predicting the index of place in pivot arr created from pivot table.\n",
        "##  From this place id can be obtained and place name can be predicted. \n",
        "\n",
        "for i in [2,5,11,99, 235]:\n",
        "  print(m.predict_index(i, 10)) # i is the index and 10 means top 10"
      ],
      "metadata": {
        "colab": {
          "base_uri": "https://localhost:8080/"
        },
        "id": "Z7pVOvVPtABN",
        "outputId": "70ee3f3a-2a10-4231-f1a9-83ff4b8e7895"
      },
      "execution_count": null,
      "outputs": [
        {
          "output_type": "stream",
          "name": "stdout",
          "text": [
            "[222, 165, 482, 581, 43, 395, 792, 274, 963, 424]\n",
            "[222, 165, 482, 581, 43, 395, 792, 274, 963, 424]\n",
            "[222, 165, 482, 581, 43, 395, 792, 274, 963, 424]\n",
            "[222, 165, 482, 581, 43, 395, 792, 274, 963, 424]\n",
            "[222, 165, 51, 792, 875, 43, 285, 584, 419, 395]\n"
          ]
        }
      ]
    },
    {
      "cell_type": "markdown",
      "source": [
        "## 2) SVD with baseline estimates (without impicit)"
      ],
      "metadata": {
        "id": "J8DydkgtZAKB"
      }
    },
    {
      "cell_type": "code",
      "source": [
        "class MF_wo_implicit():\n",
        "  def __init__(self, arr, k, lmda4, gamma, iter):\n",
        "    self.arr = arr\n",
        "\n",
        "    self.bu = np.random.rand(arr.shape[0])\n",
        "    self.bi = np.random.rand(arr.shape[1])\n",
        "    self.u = np.mean(arr)\n",
        "    self.p = np.random.rand(arr.shape[0],k)\n",
        "    self.q = np.random.rand(k,arr.shape[1])\n",
        "\n",
        "    self.k = k\n",
        "    self.lmda4 = lmda4\n",
        "    self.gamma = gamma\n",
        "    self.iter = iter\n",
        "\n",
        "    self.known_ratings = np.argwhere(self.arr != 0)\n",
        "\n",
        "\n",
        "  def fit(self):\n",
        "    for epoch in range(self.iter):\n",
        "      total,count,err = len(self.known_ratings), 1, []\n",
        "    \n",
        "      for i in self.known_ratings:\n",
        "        r_hat = self.u + self.bu[i[0]] + self.bi[i[1]] + np.dot(self.p[i[0],:], self.q[:, i[1]])\n",
        "\n",
        "        # update\n",
        "        error = self.arr[i[0], i[1]] - r_hat\n",
        "        err.append(error)\n",
        "\n",
        "        self.bu[i[0]] += self.gamma * (error - self.lmda4 * self.bu[i[0]])\n",
        "        self.bi[i[1]] += self.gamma * (error - self.lmda4 * self.bi[i[1]])\n",
        "\n",
        "        for j in range(self.k):\n",
        "          self.p[i[0],j] += self.gamma * (error * self.q[j,i[1]] + self.lmda4 * self.p[i[0], j])\n",
        "          self.q[j, i[1]] += self.gamma * (error * self.p[i[0],j] + self.lmda4 * self.q[j, i[1]])\n",
        "        \n",
        "        if count % int(total / 10) == 0:\n",
        "          s = 'Epoch ' + str(epoch) + ' [' + '===' * int((count+1) / total * 10) + '>' + '   ' * (10 - int((count+1) / total * 10)) + ']' + '  Error (RMSE): ' + str(np.sqrt(abs(np.mean(err))))\n",
        "          print(f\"\\r{s}\", end=\"\")\n",
        "        \n",
        "        count += 1\n",
        "      print()\n",
        "\n",
        "  def predict_index(self, user_index, top_k):\n",
        "    rec_index, ret_list = [], []\n",
        "\n",
        "    temp1 = self.known_ratings[self.known_ratings[:,0] == user_index][:,1]\n",
        "    for i in range(self.arr.shape[1]):\n",
        "      r_hat = self.u + self.bu[user_index] + self.bi[i] + np.dot(self.p[user_index,:], self.q[:,i])\n",
        "\n",
        "      rec_index.append(r_hat)\n",
        "\n",
        "    rev_sorted_index = np.argsort(rec_index)[::-1]\n",
        "\n",
        "    for i in rev_sorted_index:\n",
        "      if i not in temp1:\n",
        "        ret_list.append(i)\n",
        "\n",
        "      if len(ret_list) == top_k:\n",
        "        break\n",
        "    \n",
        "    return ret_list"
      ],
      "metadata": {
        "id": "r11VRWq4Y8gv"
      },
      "execution_count": null,
      "outputs": []
    },
    {
      "cell_type": "code",
      "source": [
        "m = MF_wo_implicit(arr,400,0.002,0.005,10)\n",
        "m.fit()"
      ],
      "metadata": {
        "colab": {
          "base_uri": "https://localhost:8080/"
        },
        "outputId": "e4fcbbd5-1a9d-495a-b43d-10a6b5daa416",
        "id": "0YmlkeGFZ-zz"
      },
      "execution_count": null,
      "outputs": [
        {
          "output_type": "stream",
          "name": "stdout",
          "text": [
            "Epoch 0 [==============================>]  Error (RMSE): 7.3435703268223245\n",
            "Epoch 1 [==============================>]  Error (RMSE): 2.326416003672824\n",
            "Epoch 2 [==============================>]  Error (RMSE): 1.1220969831247738\n",
            "Epoch 3 [==============================>]  Error (RMSE): 0.7431773694646442\n",
            "Epoch 4 [==============================>]  Error (RMSE): 0.5237073719048334\n",
            "Epoch 5 [==============================>]  Error (RMSE): 0.3782915673357733\n",
            "Epoch 6 [==============================>]  Error (RMSE): 0.2759147604030514\n",
            "Epoch 7 [==============================>]  Error (RMSE): 0.20113323127930846\n",
            "Epoch 8 [==============================>]  Error (RMSE): 0.14484672008721175\n",
            "Epoch 9 [==============================>]  Error (RMSE): 0.10117439303440409\n"
          ]
        }
      ]
    },
    {
      "cell_type": "code",
      "source": [
        "m.predict_index(1, 10)"
      ],
      "metadata": {
        "colab": {
          "base_uri": "https://localhost:8080/"
        },
        "id": "3RqLE3RPRBkQ",
        "outputId": "3ec5ad01-1f28-42e7-f0b0-04bbda1f4650"
      },
      "execution_count": null,
      "outputs": [
        {
          "output_type": "execute_result",
          "data": {
            "text/plain": [
              "[551, 62, 808, 951, 641, 500, 711, 101, 608, 258]"
            ]
          },
          "metadata": {},
          "execution_count": 39
        }
      ]
    },
    {
      "cell_type": "code",
      "source": [
        "m.predict_index(10, 10)"
      ],
      "metadata": {
        "colab": {
          "base_uri": "https://localhost:8080/"
        },
        "id": "SMGBJ4mJRtk4",
        "outputId": "60d2bb89-2aca-401d-8741-6d8133d7c976"
      },
      "execution_count": null,
      "outputs": [
        {
          "output_type": "execute_result",
          "data": {
            "text/plain": [
              "[526, 653, 458, 302, 618, 679, 344, 434, 345, 872]"
            ]
          },
          "metadata": {},
          "execution_count": 40
        }
      ]
    },
    {
      "cell_type": "code",
      "source": [
        "for i in [2,5,11,99, 235]:\n",
        "  print(m.predict_index(i, 10))"
      ],
      "metadata": {
        "colab": {
          "base_uri": "https://localhost:8080/"
        },
        "id": "cXMQUliQR3bD",
        "outputId": "fd36ada4-7571-4cc7-d3a0-15f997437a38"
      },
      "execution_count": null,
      "outputs": [
        {
          "output_type": "stream",
          "name": "stdout",
          "text": [
            "[641, 540, 113, 315, 721, 842, 872, 22, 608, 618]\n",
            "[872, 252, 641, 592, 618, 608, 653, 422, 842, 283]\n",
            "[249, 47, 737, 641, 618, 950, 309, 84, 343, 569]\n",
            "[678, 842, 641, 315, 540, 493, 618, 598, 754, 747]\n",
            "[872, 315, 641, 678, 919, 925, 99, 47, 618, 429]\n"
          ]
        }
      ]
    },
    {
      "cell_type": "markdown",
      "source": [
        "### Comparision of neighbourhood vs svd approach\n"
      ],
      "metadata": {
        "id": "UxqyCYpLaOgp"
      }
    },
    {
      "cell_type": "code",
      "source": [
        "#  neighbourhood approach                                   # svd approach\n",
        "# [222, 165, 482, 581, 43, 395, 792, 274, 963, 424]         # [641, 540, 113, 315, 721, 842, 872, 22, 608, 618]\n",
        "# [222, 165, 482, 581, 43, 395, 792, 274, 963, 424]         # [872, 252, 641, 592, 618, 608, 653, 422, 842, 283]\n",
        "# [222, 165, 482, 581, 43, 395, 792, 274, 963, 424]         # [249, 47, 737, 641, 618, 950, 309, 84, 343, 569]\n",
        "# [222, 165, 482, 581, 43, 395, 792, 274, 963, 424]         # [678, 842, 641, 315, 540, 493, 618, 598, 754, 747]\n",
        "# [222, 165, 51, 792, 875, 43, 285, 584, 419, 395]          # [872, 315, 641, 678, 919, 925, 99, 47, 618, 429]\n",
        "\n",
        "# Note: above are top 10 predicted indeces of places.\n",
        "# From above we can see that neighbourhood approach gives almost same result for many users. Only few users with\n",
        "# high number of ratings get different ratings. Whereas svd approach gives different result for every user based \n",
        "# on his/her ratings. Also impicit feedback were not used in any of the above."
      ],
      "metadata": {
        "id": "NgiOwKHFaT4S"
      },
      "execution_count": null,
      "outputs": []
    },
    {
      "cell_type": "markdown",
      "source": [
        "## Trying SVD approach with higher dimension data."
      ],
      "metadata": {
        "id": "qtGu0Ghaccnn"
      }
    },
    {
      "cell_type": "code",
      "source": [
        "arr = np.array(df.iloc[:5000,:5000])\n",
        "m = MF_wo_implicit(arr,400,0.002,0.005,10)\n",
        "m.fit()"
      ],
      "metadata": {
        "colab": {
          "base_uri": "https://localhost:8080/"
        },
        "id": "qqtQZ9u2ckOI",
        "outputId": "ef5bb1f0-ad72-45b2-abee-7ff1b49bd2d7"
      },
      "execution_count": null,
      "outputs": [
        {
          "output_type": "stream",
          "name": "stdout",
          "text": [
            "Epoch 0 [===========================>   ]  Error (RMSE): 4.968773724240454\n",
            "Epoch 1 [===========================>   ]  Error (RMSE): 2.222248337769308\n",
            "Epoch 2 [===========================>   ]  Error (RMSE): 1.1314795527805537\n",
            "Epoch 3 [===========================>   ]  Error (RMSE): 0.7512093822522573\n",
            "Epoch 4 [===========================>   ]  Error (RMSE): 0.5307122384782539\n",
            "Epoch 5 [===========================>   ]  Error (RMSE): 0.3872232230614622\n",
            "Epoch 6 [===========================>   ]  Error (RMSE): 0.2887533506316657\n",
            "Epoch 7 [===========================>   ]  Error (RMSE): 0.21900652550026273\n",
            "Epoch 8 [===========================>   ]  Error (RMSE): 0.16842994202874959\n",
            "Epoch 9 [===========================>   ]  Error (RMSE): 0.13099364862815732\n"
          ]
        }
      ]
    },
    {
      "cell_type": "code",
      "source": [
        "for i in [2,5,11,99, 235]:\n",
        "  print(m.predict_index(i, 10))"
      ],
      "metadata": {
        "colab": {
          "base_uri": "https://localhost:8080/"
        },
        "id": "-hrTU4Hjeal4",
        "outputId": "373d5691-2c57-47de-a6af-276853601965"
      },
      "execution_count": null,
      "outputs": [
        {
          "output_type": "stream",
          "name": "stdout",
          "text": [
            "[3184, 2766, 3871, 3505, 2732, 3987, 1155, 2862, 430, 3478]\n",
            "[3246, 3505, 1357, 1001, 4095, 3363, 2862, 3506, 430, 3394]\n",
            "[986, 2127, 868, 3146, 2353, 3381, 3831, 2727, 4101, 4390]\n",
            "[1897, 3246, 3184, 3061, 1136, 3987, 2117, 3506, 739, 2766]\n",
            "[3796, 2010, 4680, 3952, 4316, 2639, 3792, 2862, 3794, 3061]\n"
          ]
        }
      ]
    },
    {
      "cell_type": "code",
      "source": [
        "# for user-index 2\n",
        "# with 1000 user-item: [641, 540, 113, 315, 721, 842, 872, 22, 608, 618]\n",
        "# with 5000 user-item: [3184, 2766, 3871, 3505, 2732, 3987, 1155, 2862, 430, 3478]\n",
        "\n",
        "# checking the ratings of the user 2\n",
        "c = 0\n",
        "for i in list(arr[2,:]):\n",
        "  if i != 0:\n",
        "    print(c, i)\n",
        "  c += 1"
      ],
      "metadata": {
        "colab": {
          "base_uri": "https://localhost:8080/"
        },
        "id": "RWuG9y0-fLTY",
        "outputId": "f6740cb4-d33f-4061-c7d3-5d6e19160745"
      },
      "execution_count": null,
      "outputs": [
        {
          "output_type": "stream",
          "name": "stdout",
          "text": [
            "1972 3\n"
          ]
        }
      ]
    },
    {
      "cell_type": "code",
      "source": [
        "# user 2 rated only one item at position 1972.\n",
        "# let's find the similarity of item 1972 with first item of 1000 user-item prediction\n",
        "# and 5000 user-item prediction.\n",
        "\n",
        "pearsonr(arr[:,1972], arr[:,641])[0], pearsonr(arr[:,1972], arr[:,3184])[0]"
      ],
      "metadata": {
        "colab": {
          "base_uri": "https://localhost:8080/"
        },
        "id": "BMrrj526gTP6",
        "outputId": "b3fe88c2-059f-42d1-9871-6a2dcb36a62c"
      },
      "execution_count": null,
      "outputs": [
        {
          "output_type": "execute_result",
          "data": {
            "text/plain": [
              "(-0.0009474917741406492, -0.0005106086083061693)"
            ]
          },
          "metadata": {},
          "execution_count": 57
        }
      ]
    },
    {
      "cell_type": "markdown",
      "source": [
        "### Changing the value of k"
      ],
      "metadata": {
        "id": "hlTu6CJJm40j"
      }
    },
    {
      "cell_type": "code",
      "source": [
        "# k = 500\n",
        "arr = np.array(df.iloc[:5000,:5000])\n",
        "m2 = MF_wo_implicit(arr,500,0.002,0.001,10)\n",
        "m2.fit()"
      ],
      "metadata": {
        "colab": {
          "base_uri": "https://localhost:8080/"
        },
        "id": "1B9DxLv0hfwF",
        "outputId": "c8925b45-bd30-4ffa-b7cd-28605187f259"
      },
      "execution_count": null,
      "outputs": [
        {
          "output_type": "stream",
          "name": "stdout",
          "text": [
            "Epoch 0 [===========================>   ]  Error (RMSE): 7.757643700354244\n",
            "Epoch 1 [===========================>   ]  Error (RMSE): 4.228803605900616\n",
            "Epoch 2 [===========================>   ]  Error (RMSE): 3.045208283205785\n",
            "Epoch 3 [===========================>   ]  Error (RMSE): 2.3158002579709103\n",
            "Epoch 4 [===========================>   ]  Error (RMSE): 1.8011619035535307\n",
            "Epoch 5 [===========================>   ]  Error (RMSE): 1.4130705050184147\n",
            "Epoch 6 [===========================>   ]  Error (RMSE): 1.1081507787050864\n",
            "Epoch 7 [===========================>   ]  Error (RMSE): 0.8611078226567805\n",
            "Epoch 8 [===========================>   ]  Error (RMSE): 0.6550586106606758\n",
            "Epoch 9 [===========================>   ]  Error (RMSE): 0.4767350541886504\n"
          ]
        }
      ]
    },
    {
      "cell_type": "code",
      "source": [
        "for i in [2,5,11,99, 235]:\n",
        "  print(m2.predict_index(i, 10))"
      ],
      "metadata": {
        "colab": {
          "base_uri": "https://localhost:8080/"
        },
        "id": "staKN2oBhtSI",
        "outputId": "c68883d3-a653-4422-f35a-acc138a9f14d"
      },
      "execution_count": null,
      "outputs": [
        {
          "output_type": "stream",
          "name": "stdout",
          "text": [
            "[2157, 3047, 4697, 2714, 965, 4115, 4988, 1801, 3152, 3457]\n",
            "[965, 4522, 3554, 3047, 2666, 3746, 2714, 2986, 1241, 1319]\n",
            "[2615, 359, 1255, 739, 3722, 1287, 1795, 2851, 1305, 2610]\n",
            "[965, 2714, 3001, 3152, 300, 3880, 4522, 4115, 3554, 4755]\n",
            "[1114, 3152, 2666, 4755, 3047, 2157, 4416, 3533, 3457, 4910]\n"
          ]
        }
      ]
    },
    {
      "cell_type": "code",
      "source": [
        "# users that rated the first item of k = 500 vs k = 400\n",
        "print('Users rated first item of prediction of k = 400 for user 2')\n",
        "for i in arr[:,3184]:\n",
        "  if i != 0:\n",
        "    print(i, end = ' ')\n",
        "\n",
        "print('\\nUsers rated first item of prediction of k = 500 for user 2')\n",
        "for i in arr[:,2157]:\n",
        "  if i != 0:\n",
        "    print(i, end = ' ')"
      ],
      "metadata": {
        "colab": {
          "base_uri": "https://localhost:8080/"
        },
        "id": "8DHU0srVlbWo",
        "outputId": "dd4f75c2-8cbe-48d5-b84b-a7d1f0f81b66"
      },
      "execution_count": null,
      "outputs": [
        {
          "output_type": "stream",
          "name": "stdout",
          "text": [
            "Users rated first item of prediction of k = 400 for user 2\n",
            "5 2 \n",
            "Users rated first item of prediction of k = 500 for user 2\n",
            "5 4 "
          ]
        }
      ]
    },
    {
      "cell_type": "markdown",
      "source": [
        "### From above we can see, more users were considered when value of k is high."
      ],
      "metadata": {
        "id": "E4yX5Ea6nxUl"
      }
    },
    {
      "cell_type": "code",
      "source": [
        "# Checking the diversity in predictions for k = 400 and k = 500\n",
        "s1, c = 0, 0\n",
        "for i in combinations([3184, 2766, 3871, 3505, 2732, 3987, 1155, 2862, 430, 3478], 2):\n",
        "  s1 += np.linalg.norm(arr[:,i[0]] - arr[:,i[1]])\n",
        "  c += 1\n",
        "\n",
        "print(f'For k = 400 diversity is {s1/c}')\n",
        "\n",
        "s1, c = 0, 0\n",
        "for i in combinations([2157, 3047, 4697, 2714, 965, 4115, 4988, 1801, 3152, 3457], 2):\n",
        "  s1 += np.linalg.norm(arr[:,i[0]] - arr[:,i[1]])\n",
        "  c += 1\n",
        "\n",
        "print(f'For k = 500 diversity is {s1/c}')"
      ],
      "metadata": {
        "colab": {
          "base_uri": "https://localhost:8080/"
        },
        "id": "16MGbMuDoHjy",
        "outputId": "a2d7a10b-b3f0-49ea-89da-f32aeaeb67c5"
      },
      "execution_count": null,
      "outputs": [
        {
          "output_type": "stream",
          "name": "stdout",
          "text": [
            "For k = 400 diversity is 7.684945050191584\n",
            "For k = 500 diversity is 4.205925695214324\n"
          ]
        }
      ]
    },
    {
      "cell_type": "markdown",
      "source": [
        "### From the above we can say that as we increase the k, diversity is reduced."
      ],
      "metadata": {
        "id": "oz4VkrtzpuOM"
      }
    },
    {
      "cell_type": "code",
      "source": [],
      "metadata": {
        "id": "tZB3CntOp2Wh"
      },
      "execution_count": null,
      "outputs": []
    }
  ]
}